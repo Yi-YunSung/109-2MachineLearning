{
  "nbformat": 4,
  "nbformat_minor": 0,
  "metadata": {
    "colab": {
      "name": "HW01_group6_adult3.ipynb",
      "provenance": [],
      "collapsed_sections": []
    },
    "kernelspec": {
      "name": "python3",
      "display_name": "Python 3"
    },
    "language_info": {
      "name": "python"
    }
  },
  "cells": [
    {
      "cell_type": "markdown",
      "metadata": {
        "id": "k2r8WjlgQI1S"
      },
      "source": [
        "# 資料前處理"
      ]
    },
    {
      "cell_type": "code",
      "metadata": {
        "id": "Jq0UbLpcgMC9"
      },
      "source": [
        "#匯入套件\n",
        "import pandas as pd\n",
        "import numpy as np"
      ],
      "execution_count": 1,
      "outputs": []
    },
    {
      "cell_type": "code",
      "metadata": {
        "id": "k283odfQgd6I"
      },
      "source": [
        "#讀取資料\n",
        "adult_train_data = pd.read_csv('drive/My Drive/MachineLearning/Homework01/adult_data.csv')\n",
        "adult_test_data = pd.read_csv('drive/My Drive/MachineLearning/Homework01/adult_test.csv')"
      ],
      "execution_count": 2,
      "outputs": []
    },
    {
      "cell_type": "code",
      "metadata": {
        "colab": {
          "base_uri": "https://localhost:8080/"
        },
        "id": "BupE7Z_Gmk23",
        "outputId": "226eab7b-53f8-4b75-fe08-4f7341b2571b"
      },
      "source": [
        "adult_test_data.columns"
      ],
      "execution_count": 3,
      "outputs": [
        {
          "output_type": "execute_result",
          "data": {
            "text/plain": [
              "Index(['age', 'workclass', 'fnlwgt', 'education', 'education-num',\n",
              "       'marital-status', 'occupation', 'relationship', 'race', 'sex',\n",
              "       'capital-gain', 'capital-loss', 'hours-per-week', 'native-country',\n",
              "       'listing-of-attributes'],\n",
              "      dtype='object')"
            ]
          },
          "metadata": {
            "tags": []
          },
          "execution_count": 3
        }
      ]
    },
    {
      "cell_type": "code",
      "metadata": {
        "id": "JN3itekrmEWY"
      },
      "source": [
        "#刪除fnlgwt列\n",
        "adult_train_data.drop('fnlwgt', axis=1, inplace=True)\n",
        "adult_test_data.drop('fnlwgt', axis=1, inplace=True)"
      ],
      "execution_count": 4,
      "outputs": []
    },
    {
      "cell_type": "code",
      "metadata": {
        "colab": {
          "base_uri": "https://localhost:8080/",
          "height": 674
        },
        "id": "SL8f7OAPghP4",
        "outputId": "ace55bf3-26bd-4e8d-afb8-10280c6052a1"
      },
      "source": [
        "#刪除train空值\n",
        "\n",
        "#workclass\n",
        "tmp = adult_train_data['workclass']\n",
        "tmp[tmp == '?'] = np.NaN\n",
        "adult_train_data['workclass'] = tmp\n",
        "\n",
        "#occupation\n",
        "tmp = adult_train_data['occupation']\n",
        "tmp[tmp == '?'] = np.NaN\n",
        "adult_train_data['occupation'] = tmp\n",
        "\n",
        "#native-country\n",
        "tmp = adult_train_data['native-country']\n",
        "tmp[tmp == '?'] = np.NaN\n",
        "adult_train_data['native-country'] = tmp\n",
        "\n",
        "adult_train_data.dropna(inplace=True, how='any')\n",
        "adult_train_data"
      ],
      "execution_count": 5,
      "outputs": [
        {
          "output_type": "stream",
          "text": [
            "/usr/local/lib/python3.7/dist-packages/ipykernel_launcher.py:5: SettingWithCopyWarning: \n",
            "A value is trying to be set on a copy of a slice from a DataFrame\n",
            "\n",
            "See the caveats in the documentation: https://pandas.pydata.org/pandas-docs/stable/user_guide/indexing.html#returning-a-view-versus-a-copy\n",
            "  \"\"\"\n",
            "/usr/local/lib/python3.7/dist-packages/ipykernel_launcher.py:10: SettingWithCopyWarning: \n",
            "A value is trying to be set on a copy of a slice from a DataFrame\n",
            "\n",
            "See the caveats in the documentation: https://pandas.pydata.org/pandas-docs/stable/user_guide/indexing.html#returning-a-view-versus-a-copy\n",
            "  # Remove the CWD from sys.path while we load stuff.\n",
            "/usr/local/lib/python3.7/dist-packages/ipykernel_launcher.py:15: SettingWithCopyWarning: \n",
            "A value is trying to be set on a copy of a slice from a DataFrame\n",
            "\n",
            "See the caveats in the documentation: https://pandas.pydata.org/pandas-docs/stable/user_guide/indexing.html#returning-a-view-versus-a-copy\n",
            "  from ipykernel import kernelapp as app\n"
          ],
          "name": "stderr"
        },
        {
          "output_type": "execute_result",
          "data": {
            "text/html": [
              "<div>\n",
              "<style scoped>\n",
              "    .dataframe tbody tr th:only-of-type {\n",
              "        vertical-align: middle;\n",
              "    }\n",
              "\n",
              "    .dataframe tbody tr th {\n",
              "        vertical-align: top;\n",
              "    }\n",
              "\n",
              "    .dataframe thead th {\n",
              "        text-align: right;\n",
              "    }\n",
              "</style>\n",
              "<table border=\"1\" class=\"dataframe\">\n",
              "  <thead>\n",
              "    <tr style=\"text-align: right;\">\n",
              "      <th></th>\n",
              "      <th>age</th>\n",
              "      <th>workclass</th>\n",
              "      <th>education</th>\n",
              "      <th>education-num</th>\n",
              "      <th>marital-status</th>\n",
              "      <th>occupation</th>\n",
              "      <th>relationship</th>\n",
              "      <th>race</th>\n",
              "      <th>sex</th>\n",
              "      <th>capital-gain</th>\n",
              "      <th>capital-loss</th>\n",
              "      <th>hours-per-week</th>\n",
              "      <th>native-country</th>\n",
              "      <th>listing-of-attributes</th>\n",
              "    </tr>\n",
              "  </thead>\n",
              "  <tbody>\n",
              "    <tr>\n",
              "      <th>0</th>\n",
              "      <td>39</td>\n",
              "      <td>State-gov</td>\n",
              "      <td>Bachelors</td>\n",
              "      <td>13</td>\n",
              "      <td>Never-married</td>\n",
              "      <td>Adm-clerical</td>\n",
              "      <td>Not-in-family</td>\n",
              "      <td>White</td>\n",
              "      <td>Male</td>\n",
              "      <td>2174</td>\n",
              "      <td>0</td>\n",
              "      <td>40</td>\n",
              "      <td>United-States</td>\n",
              "      <td>&lt;=50K</td>\n",
              "    </tr>\n",
              "    <tr>\n",
              "      <th>1</th>\n",
              "      <td>50</td>\n",
              "      <td>Self-emp-not-inc</td>\n",
              "      <td>Bachelors</td>\n",
              "      <td>13</td>\n",
              "      <td>Married-civ-spouse</td>\n",
              "      <td>Exec-managerial</td>\n",
              "      <td>Husband</td>\n",
              "      <td>White</td>\n",
              "      <td>Male</td>\n",
              "      <td>0</td>\n",
              "      <td>0</td>\n",
              "      <td>13</td>\n",
              "      <td>United-States</td>\n",
              "      <td>&lt;=50K</td>\n",
              "    </tr>\n",
              "    <tr>\n",
              "      <th>2</th>\n",
              "      <td>38</td>\n",
              "      <td>Private</td>\n",
              "      <td>HS-grad</td>\n",
              "      <td>9</td>\n",
              "      <td>Divorced</td>\n",
              "      <td>Handlers-cleaners</td>\n",
              "      <td>Not-in-family</td>\n",
              "      <td>White</td>\n",
              "      <td>Male</td>\n",
              "      <td>0</td>\n",
              "      <td>0</td>\n",
              "      <td>40</td>\n",
              "      <td>United-States</td>\n",
              "      <td>&lt;=50K</td>\n",
              "    </tr>\n",
              "    <tr>\n",
              "      <th>3</th>\n",
              "      <td>53</td>\n",
              "      <td>Private</td>\n",
              "      <td>11th</td>\n",
              "      <td>7</td>\n",
              "      <td>Married-civ-spouse</td>\n",
              "      <td>Handlers-cleaners</td>\n",
              "      <td>Husband</td>\n",
              "      <td>Black</td>\n",
              "      <td>Male</td>\n",
              "      <td>0</td>\n",
              "      <td>0</td>\n",
              "      <td>40</td>\n",
              "      <td>United-States</td>\n",
              "      <td>&lt;=50K</td>\n",
              "    </tr>\n",
              "    <tr>\n",
              "      <th>4</th>\n",
              "      <td>28</td>\n",
              "      <td>Private</td>\n",
              "      <td>Bachelors</td>\n",
              "      <td>13</td>\n",
              "      <td>Married-civ-spouse</td>\n",
              "      <td>Prof-specialty</td>\n",
              "      <td>Wife</td>\n",
              "      <td>Black</td>\n",
              "      <td>Female</td>\n",
              "      <td>0</td>\n",
              "      <td>0</td>\n",
              "      <td>40</td>\n",
              "      <td>Cuba</td>\n",
              "      <td>&lt;=50K</td>\n",
              "    </tr>\n",
              "    <tr>\n",
              "      <th>...</th>\n",
              "      <td>...</td>\n",
              "      <td>...</td>\n",
              "      <td>...</td>\n",
              "      <td>...</td>\n",
              "      <td>...</td>\n",
              "      <td>...</td>\n",
              "      <td>...</td>\n",
              "      <td>...</td>\n",
              "      <td>...</td>\n",
              "      <td>...</td>\n",
              "      <td>...</td>\n",
              "      <td>...</td>\n",
              "      <td>...</td>\n",
              "      <td>...</td>\n",
              "    </tr>\n",
              "    <tr>\n",
              "      <th>32556</th>\n",
              "      <td>27</td>\n",
              "      <td>Private</td>\n",
              "      <td>Assoc-acdm</td>\n",
              "      <td>12</td>\n",
              "      <td>Married-civ-spouse</td>\n",
              "      <td>Tech-support</td>\n",
              "      <td>Wife</td>\n",
              "      <td>White</td>\n",
              "      <td>Female</td>\n",
              "      <td>0</td>\n",
              "      <td>0</td>\n",
              "      <td>38</td>\n",
              "      <td>United-States</td>\n",
              "      <td>&lt;=50K</td>\n",
              "    </tr>\n",
              "    <tr>\n",
              "      <th>32557</th>\n",
              "      <td>40</td>\n",
              "      <td>Private</td>\n",
              "      <td>HS-grad</td>\n",
              "      <td>9</td>\n",
              "      <td>Married-civ-spouse</td>\n",
              "      <td>Machine-op-inspct</td>\n",
              "      <td>Husband</td>\n",
              "      <td>White</td>\n",
              "      <td>Male</td>\n",
              "      <td>0</td>\n",
              "      <td>0</td>\n",
              "      <td>40</td>\n",
              "      <td>United-States</td>\n",
              "      <td>&gt;50K</td>\n",
              "    </tr>\n",
              "    <tr>\n",
              "      <th>32558</th>\n",
              "      <td>58</td>\n",
              "      <td>Private</td>\n",
              "      <td>HS-grad</td>\n",
              "      <td>9</td>\n",
              "      <td>Widowed</td>\n",
              "      <td>Adm-clerical</td>\n",
              "      <td>Unmarried</td>\n",
              "      <td>White</td>\n",
              "      <td>Female</td>\n",
              "      <td>0</td>\n",
              "      <td>0</td>\n",
              "      <td>40</td>\n",
              "      <td>United-States</td>\n",
              "      <td>&lt;=50K</td>\n",
              "    </tr>\n",
              "    <tr>\n",
              "      <th>32559</th>\n",
              "      <td>22</td>\n",
              "      <td>Private</td>\n",
              "      <td>HS-grad</td>\n",
              "      <td>9</td>\n",
              "      <td>Never-married</td>\n",
              "      <td>Adm-clerical</td>\n",
              "      <td>Own-child</td>\n",
              "      <td>White</td>\n",
              "      <td>Male</td>\n",
              "      <td>0</td>\n",
              "      <td>0</td>\n",
              "      <td>20</td>\n",
              "      <td>United-States</td>\n",
              "      <td>&lt;=50K</td>\n",
              "    </tr>\n",
              "    <tr>\n",
              "      <th>32560</th>\n",
              "      <td>52</td>\n",
              "      <td>Self-emp-inc</td>\n",
              "      <td>HS-grad</td>\n",
              "      <td>9</td>\n",
              "      <td>Married-civ-spouse</td>\n",
              "      <td>Exec-managerial</td>\n",
              "      <td>Wife</td>\n",
              "      <td>White</td>\n",
              "      <td>Female</td>\n",
              "      <td>15024</td>\n",
              "      <td>0</td>\n",
              "      <td>40</td>\n",
              "      <td>United-States</td>\n",
              "      <td>&gt;50K</td>\n",
              "    </tr>\n",
              "  </tbody>\n",
              "</table>\n",
              "<p>30162 rows × 14 columns</p>\n",
              "</div>"
            ],
            "text/plain": [
              "       age         workclass  ... native-country  listing-of-attributes\n",
              "0       39         State-gov  ...  United-States                  <=50K\n",
              "1       50  Self-emp-not-inc  ...  United-States                  <=50K\n",
              "2       38           Private  ...  United-States                  <=50K\n",
              "3       53           Private  ...  United-States                  <=50K\n",
              "4       28           Private  ...           Cuba                  <=50K\n",
              "...    ...               ...  ...            ...                    ...\n",
              "32556   27           Private  ...  United-States                  <=50K\n",
              "32557   40           Private  ...  United-States                   >50K\n",
              "32558   58           Private  ...  United-States                  <=50K\n",
              "32559   22           Private  ...  United-States                  <=50K\n",
              "32560   52      Self-emp-inc  ...  United-States                   >50K\n",
              "\n",
              "[30162 rows x 14 columns]"
            ]
          },
          "metadata": {
            "tags": []
          },
          "execution_count": 5
        }
      ]
    },
    {
      "cell_type": "code",
      "metadata": {
        "colab": {
          "base_uri": "https://localhost:8080/",
          "height": 674
        },
        "id": "8MsvNcEchGBg",
        "outputId": "62d46f98-b03d-4463-ac10-14da328326d1"
      },
      "source": [
        "#刪除test空值\n",
        "\n",
        "#workclass\n",
        "tmp = adult_test_data['workclass']\n",
        "tmp[tmp == '?'] = np.NaN\n",
        "adult_test_data['workclass'] = tmp\n",
        "\n",
        "#occupation\n",
        "tmp = adult_test_data['occupation']\n",
        "tmp[tmp == '?'] = np.NaN\n",
        "adult_test_data['occupation'] = tmp\n",
        "\n",
        "#native-country\n",
        "tmp = adult_test_data['native-country']\n",
        "tmp[tmp == '?'] = np.NaN\n",
        "adult_test_data['native-country'] = tmp\n",
        "\n",
        "adult_test_data.dropna(inplace=True, how='any')\n",
        "adult_test_data"
      ],
      "execution_count": 6,
      "outputs": [
        {
          "output_type": "stream",
          "text": [
            "/usr/local/lib/python3.7/dist-packages/ipykernel_launcher.py:5: SettingWithCopyWarning: \n",
            "A value is trying to be set on a copy of a slice from a DataFrame\n",
            "\n",
            "See the caveats in the documentation: https://pandas.pydata.org/pandas-docs/stable/user_guide/indexing.html#returning-a-view-versus-a-copy\n",
            "  \"\"\"\n",
            "/usr/local/lib/python3.7/dist-packages/ipykernel_launcher.py:10: SettingWithCopyWarning: \n",
            "A value is trying to be set on a copy of a slice from a DataFrame\n",
            "\n",
            "See the caveats in the documentation: https://pandas.pydata.org/pandas-docs/stable/user_guide/indexing.html#returning-a-view-versus-a-copy\n",
            "  # Remove the CWD from sys.path while we load stuff.\n",
            "/usr/local/lib/python3.7/dist-packages/ipykernel_launcher.py:15: SettingWithCopyWarning: \n",
            "A value is trying to be set on a copy of a slice from a DataFrame\n",
            "\n",
            "See the caveats in the documentation: https://pandas.pydata.org/pandas-docs/stable/user_guide/indexing.html#returning-a-view-versus-a-copy\n",
            "  from ipykernel import kernelapp as app\n"
          ],
          "name": "stderr"
        },
        {
          "output_type": "execute_result",
          "data": {
            "text/html": [
              "<div>\n",
              "<style scoped>\n",
              "    .dataframe tbody tr th:only-of-type {\n",
              "        vertical-align: middle;\n",
              "    }\n",
              "\n",
              "    .dataframe tbody tr th {\n",
              "        vertical-align: top;\n",
              "    }\n",
              "\n",
              "    .dataframe thead th {\n",
              "        text-align: right;\n",
              "    }\n",
              "</style>\n",
              "<table border=\"1\" class=\"dataframe\">\n",
              "  <thead>\n",
              "    <tr style=\"text-align: right;\">\n",
              "      <th></th>\n",
              "      <th>age</th>\n",
              "      <th>workclass</th>\n",
              "      <th>education</th>\n",
              "      <th>education-num</th>\n",
              "      <th>marital-status</th>\n",
              "      <th>occupation</th>\n",
              "      <th>relationship</th>\n",
              "      <th>race</th>\n",
              "      <th>sex</th>\n",
              "      <th>capital-gain</th>\n",
              "      <th>capital-loss</th>\n",
              "      <th>hours-per-week</th>\n",
              "      <th>native-country</th>\n",
              "      <th>listing-of-attributes</th>\n",
              "    </tr>\n",
              "  </thead>\n",
              "  <tbody>\n",
              "    <tr>\n",
              "      <th>0</th>\n",
              "      <td>25</td>\n",
              "      <td>Private</td>\n",
              "      <td>11th</td>\n",
              "      <td>7</td>\n",
              "      <td>Never-married</td>\n",
              "      <td>Machine-op-inspct</td>\n",
              "      <td>Own-child</td>\n",
              "      <td>Black</td>\n",
              "      <td>Male</td>\n",
              "      <td>0</td>\n",
              "      <td>0</td>\n",
              "      <td>40</td>\n",
              "      <td>United-States</td>\n",
              "      <td>&lt;=50K</td>\n",
              "    </tr>\n",
              "    <tr>\n",
              "      <th>1</th>\n",
              "      <td>38</td>\n",
              "      <td>Private</td>\n",
              "      <td>HS-grad</td>\n",
              "      <td>9</td>\n",
              "      <td>Married-civ-spouse</td>\n",
              "      <td>Farming-fishing</td>\n",
              "      <td>Husband</td>\n",
              "      <td>White</td>\n",
              "      <td>Male</td>\n",
              "      <td>0</td>\n",
              "      <td>0</td>\n",
              "      <td>50</td>\n",
              "      <td>United-States</td>\n",
              "      <td>&lt;=50K</td>\n",
              "    </tr>\n",
              "    <tr>\n",
              "      <th>2</th>\n",
              "      <td>28</td>\n",
              "      <td>Local-gov</td>\n",
              "      <td>Assoc-acdm</td>\n",
              "      <td>12</td>\n",
              "      <td>Married-civ-spouse</td>\n",
              "      <td>Protective-serv</td>\n",
              "      <td>Husband</td>\n",
              "      <td>White</td>\n",
              "      <td>Male</td>\n",
              "      <td>0</td>\n",
              "      <td>0</td>\n",
              "      <td>40</td>\n",
              "      <td>United-States</td>\n",
              "      <td>&gt;50K</td>\n",
              "    </tr>\n",
              "    <tr>\n",
              "      <th>3</th>\n",
              "      <td>44</td>\n",
              "      <td>Private</td>\n",
              "      <td>Some-college</td>\n",
              "      <td>10</td>\n",
              "      <td>Married-civ-spouse</td>\n",
              "      <td>Machine-op-inspct</td>\n",
              "      <td>Husband</td>\n",
              "      <td>Black</td>\n",
              "      <td>Male</td>\n",
              "      <td>7688</td>\n",
              "      <td>0</td>\n",
              "      <td>40</td>\n",
              "      <td>United-States</td>\n",
              "      <td>&gt;50K</td>\n",
              "    </tr>\n",
              "    <tr>\n",
              "      <th>5</th>\n",
              "      <td>34</td>\n",
              "      <td>Private</td>\n",
              "      <td>10th</td>\n",
              "      <td>6</td>\n",
              "      <td>Never-married</td>\n",
              "      <td>Other-service</td>\n",
              "      <td>Not-in-family</td>\n",
              "      <td>White</td>\n",
              "      <td>Male</td>\n",
              "      <td>0</td>\n",
              "      <td>0</td>\n",
              "      <td>30</td>\n",
              "      <td>United-States</td>\n",
              "      <td>&lt;=50K</td>\n",
              "    </tr>\n",
              "    <tr>\n",
              "      <th>...</th>\n",
              "      <td>...</td>\n",
              "      <td>...</td>\n",
              "      <td>...</td>\n",
              "      <td>...</td>\n",
              "      <td>...</td>\n",
              "      <td>...</td>\n",
              "      <td>...</td>\n",
              "      <td>...</td>\n",
              "      <td>...</td>\n",
              "      <td>...</td>\n",
              "      <td>...</td>\n",
              "      <td>...</td>\n",
              "      <td>...</td>\n",
              "      <td>...</td>\n",
              "    </tr>\n",
              "    <tr>\n",
              "      <th>16275</th>\n",
              "      <td>33</td>\n",
              "      <td>Private</td>\n",
              "      <td>Bachelors</td>\n",
              "      <td>13</td>\n",
              "      <td>Never-married</td>\n",
              "      <td>Prof-specialty</td>\n",
              "      <td>Own-child</td>\n",
              "      <td>White</td>\n",
              "      <td>Male</td>\n",
              "      <td>0</td>\n",
              "      <td>0</td>\n",
              "      <td>40</td>\n",
              "      <td>United-States</td>\n",
              "      <td>&lt;=50K</td>\n",
              "    </tr>\n",
              "    <tr>\n",
              "      <th>16276</th>\n",
              "      <td>39</td>\n",
              "      <td>Private</td>\n",
              "      <td>Bachelors</td>\n",
              "      <td>13</td>\n",
              "      <td>Divorced</td>\n",
              "      <td>Prof-specialty</td>\n",
              "      <td>Not-in-family</td>\n",
              "      <td>White</td>\n",
              "      <td>Female</td>\n",
              "      <td>0</td>\n",
              "      <td>0</td>\n",
              "      <td>36</td>\n",
              "      <td>United-States</td>\n",
              "      <td>&lt;=50K</td>\n",
              "    </tr>\n",
              "    <tr>\n",
              "      <th>16278</th>\n",
              "      <td>38</td>\n",
              "      <td>Private</td>\n",
              "      <td>Bachelors</td>\n",
              "      <td>13</td>\n",
              "      <td>Married-civ-spouse</td>\n",
              "      <td>Prof-specialty</td>\n",
              "      <td>Husband</td>\n",
              "      <td>White</td>\n",
              "      <td>Male</td>\n",
              "      <td>0</td>\n",
              "      <td>0</td>\n",
              "      <td>50</td>\n",
              "      <td>United-States</td>\n",
              "      <td>&lt;=50K</td>\n",
              "    </tr>\n",
              "    <tr>\n",
              "      <th>16279</th>\n",
              "      <td>44</td>\n",
              "      <td>Private</td>\n",
              "      <td>Bachelors</td>\n",
              "      <td>13</td>\n",
              "      <td>Divorced</td>\n",
              "      <td>Adm-clerical</td>\n",
              "      <td>Own-child</td>\n",
              "      <td>Asian-Pac-Islander</td>\n",
              "      <td>Male</td>\n",
              "      <td>5455</td>\n",
              "      <td>0</td>\n",
              "      <td>40</td>\n",
              "      <td>United-States</td>\n",
              "      <td>&lt;=50K</td>\n",
              "    </tr>\n",
              "    <tr>\n",
              "      <th>16280</th>\n",
              "      <td>35</td>\n",
              "      <td>Self-emp-inc</td>\n",
              "      <td>Bachelors</td>\n",
              "      <td>13</td>\n",
              "      <td>Married-civ-spouse</td>\n",
              "      <td>Exec-managerial</td>\n",
              "      <td>Husband</td>\n",
              "      <td>White</td>\n",
              "      <td>Male</td>\n",
              "      <td>0</td>\n",
              "      <td>0</td>\n",
              "      <td>60</td>\n",
              "      <td>United-States</td>\n",
              "      <td>&gt;50K</td>\n",
              "    </tr>\n",
              "  </tbody>\n",
              "</table>\n",
              "<p>15060 rows × 14 columns</p>\n",
              "</div>"
            ],
            "text/plain": [
              "       age     workclass  ... native-country  listing-of-attributes\n",
              "0       25       Private  ...  United-States                  <=50K\n",
              "1       38       Private  ...  United-States                  <=50K\n",
              "2       28     Local-gov  ...  United-States                   >50K\n",
              "3       44       Private  ...  United-States                   >50K\n",
              "5       34       Private  ...  United-States                  <=50K\n",
              "...    ...           ...  ...            ...                    ...\n",
              "16275   33       Private  ...  United-States                  <=50K\n",
              "16276   39       Private  ...  United-States                  <=50K\n",
              "16278   38       Private  ...  United-States                  <=50K\n",
              "16279   44       Private  ...  United-States                  <=50K\n",
              "16280   35  Self-emp-inc  ...  United-States                   >50K\n",
              "\n",
              "[15060 rows x 14 columns]"
            ]
          },
          "metadata": {
            "tags": []
          },
          "execution_count": 6
        }
      ]
    },
    {
      "cell_type": "code",
      "metadata": {
        "colab": {
          "base_uri": "https://localhost:8080/",
          "height": 419
        },
        "id": "lgRbl5aMhLF4",
        "outputId": "163bad60-bec6-4076-97e5-9f0318716d2b"
      },
      "source": [
        "#train資料正規化\n",
        "\n",
        "from sklearn.preprocessing import LabelEncoder\n",
        "labelencoder = LabelEncoder()\n",
        "\n",
        "adult_train_data['workclass'] = labelencoder.fit_transform(adult_train_data['workclass'])\n",
        "adult_train_data['education'] = labelencoder.fit_transform(adult_train_data['education'])\n",
        "adult_train_data['marital-status'] = labelencoder.fit_transform(adult_train_data['marital-status'])\n",
        "adult_train_data['occupation'] = labelencoder.fit_transform(adult_train_data['occupation'])\n",
        "adult_train_data['relationship'] = labelencoder.fit_transform(adult_train_data['relationship'])\n",
        "adult_train_data['race'] = labelencoder.fit_transform(adult_train_data['race'])\n",
        "adult_train_data['sex'] = labelencoder.fit_transform(adult_train_data['sex'])\n",
        "adult_train_data['native-country'] = labelencoder.fit_transform(adult_train_data['native-country'])\n",
        "adult_train_data['listing-of-attributes'] = labelencoder.fit_transform(adult_train_data['listing-of-attributes'])\n",
        "\n",
        "adult_train_data"
      ],
      "execution_count": 7,
      "outputs": [
        {
          "output_type": "execute_result",
          "data": {
            "text/html": [
              "<div>\n",
              "<style scoped>\n",
              "    .dataframe tbody tr th:only-of-type {\n",
              "        vertical-align: middle;\n",
              "    }\n",
              "\n",
              "    .dataframe tbody tr th {\n",
              "        vertical-align: top;\n",
              "    }\n",
              "\n",
              "    .dataframe thead th {\n",
              "        text-align: right;\n",
              "    }\n",
              "</style>\n",
              "<table border=\"1\" class=\"dataframe\">\n",
              "  <thead>\n",
              "    <tr style=\"text-align: right;\">\n",
              "      <th></th>\n",
              "      <th>age</th>\n",
              "      <th>workclass</th>\n",
              "      <th>education</th>\n",
              "      <th>education-num</th>\n",
              "      <th>marital-status</th>\n",
              "      <th>occupation</th>\n",
              "      <th>relationship</th>\n",
              "      <th>race</th>\n",
              "      <th>sex</th>\n",
              "      <th>capital-gain</th>\n",
              "      <th>capital-loss</th>\n",
              "      <th>hours-per-week</th>\n",
              "      <th>native-country</th>\n",
              "      <th>listing-of-attributes</th>\n",
              "    </tr>\n",
              "  </thead>\n",
              "  <tbody>\n",
              "    <tr>\n",
              "      <th>0</th>\n",
              "      <td>39</td>\n",
              "      <td>5</td>\n",
              "      <td>9</td>\n",
              "      <td>13</td>\n",
              "      <td>4</td>\n",
              "      <td>0</td>\n",
              "      <td>1</td>\n",
              "      <td>4</td>\n",
              "      <td>1</td>\n",
              "      <td>2174</td>\n",
              "      <td>0</td>\n",
              "      <td>40</td>\n",
              "      <td>38</td>\n",
              "      <td>0</td>\n",
              "    </tr>\n",
              "    <tr>\n",
              "      <th>1</th>\n",
              "      <td>50</td>\n",
              "      <td>4</td>\n",
              "      <td>9</td>\n",
              "      <td>13</td>\n",
              "      <td>2</td>\n",
              "      <td>3</td>\n",
              "      <td>0</td>\n",
              "      <td>4</td>\n",
              "      <td>1</td>\n",
              "      <td>0</td>\n",
              "      <td>0</td>\n",
              "      <td>13</td>\n",
              "      <td>38</td>\n",
              "      <td>0</td>\n",
              "    </tr>\n",
              "    <tr>\n",
              "      <th>2</th>\n",
              "      <td>38</td>\n",
              "      <td>2</td>\n",
              "      <td>11</td>\n",
              "      <td>9</td>\n",
              "      <td>0</td>\n",
              "      <td>5</td>\n",
              "      <td>1</td>\n",
              "      <td>4</td>\n",
              "      <td>1</td>\n",
              "      <td>0</td>\n",
              "      <td>0</td>\n",
              "      <td>40</td>\n",
              "      <td>38</td>\n",
              "      <td>0</td>\n",
              "    </tr>\n",
              "    <tr>\n",
              "      <th>3</th>\n",
              "      <td>53</td>\n",
              "      <td>2</td>\n",
              "      <td>1</td>\n",
              "      <td>7</td>\n",
              "      <td>2</td>\n",
              "      <td>5</td>\n",
              "      <td>0</td>\n",
              "      <td>2</td>\n",
              "      <td>1</td>\n",
              "      <td>0</td>\n",
              "      <td>0</td>\n",
              "      <td>40</td>\n",
              "      <td>38</td>\n",
              "      <td>0</td>\n",
              "    </tr>\n",
              "    <tr>\n",
              "      <th>4</th>\n",
              "      <td>28</td>\n",
              "      <td>2</td>\n",
              "      <td>9</td>\n",
              "      <td>13</td>\n",
              "      <td>2</td>\n",
              "      <td>9</td>\n",
              "      <td>5</td>\n",
              "      <td>2</td>\n",
              "      <td>0</td>\n",
              "      <td>0</td>\n",
              "      <td>0</td>\n",
              "      <td>40</td>\n",
              "      <td>4</td>\n",
              "      <td>0</td>\n",
              "    </tr>\n",
              "    <tr>\n",
              "      <th>...</th>\n",
              "      <td>...</td>\n",
              "      <td>...</td>\n",
              "      <td>...</td>\n",
              "      <td>...</td>\n",
              "      <td>...</td>\n",
              "      <td>...</td>\n",
              "      <td>...</td>\n",
              "      <td>...</td>\n",
              "      <td>...</td>\n",
              "      <td>...</td>\n",
              "      <td>...</td>\n",
              "      <td>...</td>\n",
              "      <td>...</td>\n",
              "      <td>...</td>\n",
              "    </tr>\n",
              "    <tr>\n",
              "      <th>32556</th>\n",
              "      <td>27</td>\n",
              "      <td>2</td>\n",
              "      <td>7</td>\n",
              "      <td>12</td>\n",
              "      <td>2</td>\n",
              "      <td>12</td>\n",
              "      <td>5</td>\n",
              "      <td>4</td>\n",
              "      <td>0</td>\n",
              "      <td>0</td>\n",
              "      <td>0</td>\n",
              "      <td>38</td>\n",
              "      <td>38</td>\n",
              "      <td>0</td>\n",
              "    </tr>\n",
              "    <tr>\n",
              "      <th>32557</th>\n",
              "      <td>40</td>\n",
              "      <td>2</td>\n",
              "      <td>11</td>\n",
              "      <td>9</td>\n",
              "      <td>2</td>\n",
              "      <td>6</td>\n",
              "      <td>0</td>\n",
              "      <td>4</td>\n",
              "      <td>1</td>\n",
              "      <td>0</td>\n",
              "      <td>0</td>\n",
              "      <td>40</td>\n",
              "      <td>38</td>\n",
              "      <td>1</td>\n",
              "    </tr>\n",
              "    <tr>\n",
              "      <th>32558</th>\n",
              "      <td>58</td>\n",
              "      <td>2</td>\n",
              "      <td>11</td>\n",
              "      <td>9</td>\n",
              "      <td>6</td>\n",
              "      <td>0</td>\n",
              "      <td>4</td>\n",
              "      <td>4</td>\n",
              "      <td>0</td>\n",
              "      <td>0</td>\n",
              "      <td>0</td>\n",
              "      <td>40</td>\n",
              "      <td>38</td>\n",
              "      <td>0</td>\n",
              "    </tr>\n",
              "    <tr>\n",
              "      <th>32559</th>\n",
              "      <td>22</td>\n",
              "      <td>2</td>\n",
              "      <td>11</td>\n",
              "      <td>9</td>\n",
              "      <td>4</td>\n",
              "      <td>0</td>\n",
              "      <td>3</td>\n",
              "      <td>4</td>\n",
              "      <td>1</td>\n",
              "      <td>0</td>\n",
              "      <td>0</td>\n",
              "      <td>20</td>\n",
              "      <td>38</td>\n",
              "      <td>0</td>\n",
              "    </tr>\n",
              "    <tr>\n",
              "      <th>32560</th>\n",
              "      <td>52</td>\n",
              "      <td>3</td>\n",
              "      <td>11</td>\n",
              "      <td>9</td>\n",
              "      <td>2</td>\n",
              "      <td>3</td>\n",
              "      <td>5</td>\n",
              "      <td>4</td>\n",
              "      <td>0</td>\n",
              "      <td>15024</td>\n",
              "      <td>0</td>\n",
              "      <td>40</td>\n",
              "      <td>38</td>\n",
              "      <td>1</td>\n",
              "    </tr>\n",
              "  </tbody>\n",
              "</table>\n",
              "<p>30162 rows × 14 columns</p>\n",
              "</div>"
            ],
            "text/plain": [
              "       age  workclass  ...  native-country  listing-of-attributes\n",
              "0       39          5  ...              38                      0\n",
              "1       50          4  ...              38                      0\n",
              "2       38          2  ...              38                      0\n",
              "3       53          2  ...              38                      0\n",
              "4       28          2  ...               4                      0\n",
              "...    ...        ...  ...             ...                    ...\n",
              "32556   27          2  ...              38                      0\n",
              "32557   40          2  ...              38                      1\n",
              "32558   58          2  ...              38                      0\n",
              "32559   22          2  ...              38                      0\n",
              "32560   52          3  ...              38                      1\n",
              "\n",
              "[30162 rows x 14 columns]"
            ]
          },
          "metadata": {
            "tags": []
          },
          "execution_count": 7
        }
      ]
    },
    {
      "cell_type": "code",
      "metadata": {
        "colab": {
          "base_uri": "https://localhost:8080/",
          "height": 419
        },
        "id": "woFP5MtwhS8Y",
        "outputId": "4898cc52-3f96-4055-8c88-a8e55e7a3207"
      },
      "source": [
        "#test資料正規化\n",
        "\n",
        "from sklearn.preprocessing import LabelEncoder\n",
        "labelencoder = LabelEncoder()\n",
        "\n",
        "adult_test_data['workclass'] = labelencoder.fit_transform(adult_test_data['workclass'])\n",
        "adult_test_data['education'] = labelencoder.fit_transform(adult_test_data['education'])\n",
        "adult_test_data['marital-status'] = labelencoder.fit_transform(adult_test_data['marital-status'])\n",
        "adult_test_data['occupation'] = labelencoder.fit_transform(adult_test_data['occupation'])\n",
        "adult_test_data['relationship'] = labelencoder.fit_transform(adult_test_data['relationship'])\n",
        "adult_test_data['race'] = labelencoder.fit_transform(adult_test_data['race'])\n",
        "adult_test_data['sex'] = labelencoder.fit_transform(adult_test_data['sex'])\n",
        "adult_test_data['native-country'] = labelencoder.fit_transform(adult_test_data['native-country'])\n",
        "adult_test_data['listing-of-attributes'] = labelencoder.fit_transform(adult_test_data['listing-of-attributes'])\n",
        "\n",
        "adult_test_data"
      ],
      "execution_count": 8,
      "outputs": [
        {
          "output_type": "execute_result",
          "data": {
            "text/html": [
              "<div>\n",
              "<style scoped>\n",
              "    .dataframe tbody tr th:only-of-type {\n",
              "        vertical-align: middle;\n",
              "    }\n",
              "\n",
              "    .dataframe tbody tr th {\n",
              "        vertical-align: top;\n",
              "    }\n",
              "\n",
              "    .dataframe thead th {\n",
              "        text-align: right;\n",
              "    }\n",
              "</style>\n",
              "<table border=\"1\" class=\"dataframe\">\n",
              "  <thead>\n",
              "    <tr style=\"text-align: right;\">\n",
              "      <th></th>\n",
              "      <th>age</th>\n",
              "      <th>workclass</th>\n",
              "      <th>education</th>\n",
              "      <th>education-num</th>\n",
              "      <th>marital-status</th>\n",
              "      <th>occupation</th>\n",
              "      <th>relationship</th>\n",
              "      <th>race</th>\n",
              "      <th>sex</th>\n",
              "      <th>capital-gain</th>\n",
              "      <th>capital-loss</th>\n",
              "      <th>hours-per-week</th>\n",
              "      <th>native-country</th>\n",
              "      <th>listing-of-attributes</th>\n",
              "    </tr>\n",
              "  </thead>\n",
              "  <tbody>\n",
              "    <tr>\n",
              "      <th>0</th>\n",
              "      <td>25</td>\n",
              "      <td>2</td>\n",
              "      <td>1</td>\n",
              "      <td>7</td>\n",
              "      <td>4</td>\n",
              "      <td>6</td>\n",
              "      <td>3</td>\n",
              "      <td>2</td>\n",
              "      <td>1</td>\n",
              "      <td>0</td>\n",
              "      <td>0</td>\n",
              "      <td>40</td>\n",
              "      <td>37</td>\n",
              "      <td>0</td>\n",
              "    </tr>\n",
              "    <tr>\n",
              "      <th>1</th>\n",
              "      <td>38</td>\n",
              "      <td>2</td>\n",
              "      <td>11</td>\n",
              "      <td>9</td>\n",
              "      <td>2</td>\n",
              "      <td>4</td>\n",
              "      <td>0</td>\n",
              "      <td>4</td>\n",
              "      <td>1</td>\n",
              "      <td>0</td>\n",
              "      <td>0</td>\n",
              "      <td>50</td>\n",
              "      <td>37</td>\n",
              "      <td>0</td>\n",
              "    </tr>\n",
              "    <tr>\n",
              "      <th>2</th>\n",
              "      <td>28</td>\n",
              "      <td>1</td>\n",
              "      <td>7</td>\n",
              "      <td>12</td>\n",
              "      <td>2</td>\n",
              "      <td>10</td>\n",
              "      <td>0</td>\n",
              "      <td>4</td>\n",
              "      <td>1</td>\n",
              "      <td>0</td>\n",
              "      <td>0</td>\n",
              "      <td>40</td>\n",
              "      <td>37</td>\n",
              "      <td>1</td>\n",
              "    </tr>\n",
              "    <tr>\n",
              "      <th>3</th>\n",
              "      <td>44</td>\n",
              "      <td>2</td>\n",
              "      <td>15</td>\n",
              "      <td>10</td>\n",
              "      <td>2</td>\n",
              "      <td>6</td>\n",
              "      <td>0</td>\n",
              "      <td>2</td>\n",
              "      <td>1</td>\n",
              "      <td>7688</td>\n",
              "      <td>0</td>\n",
              "      <td>40</td>\n",
              "      <td>37</td>\n",
              "      <td>1</td>\n",
              "    </tr>\n",
              "    <tr>\n",
              "      <th>5</th>\n",
              "      <td>34</td>\n",
              "      <td>2</td>\n",
              "      <td>0</td>\n",
              "      <td>6</td>\n",
              "      <td>4</td>\n",
              "      <td>7</td>\n",
              "      <td>1</td>\n",
              "      <td>4</td>\n",
              "      <td>1</td>\n",
              "      <td>0</td>\n",
              "      <td>0</td>\n",
              "      <td>30</td>\n",
              "      <td>37</td>\n",
              "      <td>0</td>\n",
              "    </tr>\n",
              "    <tr>\n",
              "      <th>...</th>\n",
              "      <td>...</td>\n",
              "      <td>...</td>\n",
              "      <td>...</td>\n",
              "      <td>...</td>\n",
              "      <td>...</td>\n",
              "      <td>...</td>\n",
              "      <td>...</td>\n",
              "      <td>...</td>\n",
              "      <td>...</td>\n",
              "      <td>...</td>\n",
              "      <td>...</td>\n",
              "      <td>...</td>\n",
              "      <td>...</td>\n",
              "      <td>...</td>\n",
              "    </tr>\n",
              "    <tr>\n",
              "      <th>16275</th>\n",
              "      <td>33</td>\n",
              "      <td>2</td>\n",
              "      <td>9</td>\n",
              "      <td>13</td>\n",
              "      <td>4</td>\n",
              "      <td>9</td>\n",
              "      <td>3</td>\n",
              "      <td>4</td>\n",
              "      <td>1</td>\n",
              "      <td>0</td>\n",
              "      <td>0</td>\n",
              "      <td>40</td>\n",
              "      <td>37</td>\n",
              "      <td>0</td>\n",
              "    </tr>\n",
              "    <tr>\n",
              "      <th>16276</th>\n",
              "      <td>39</td>\n",
              "      <td>2</td>\n",
              "      <td>9</td>\n",
              "      <td>13</td>\n",
              "      <td>0</td>\n",
              "      <td>9</td>\n",
              "      <td>1</td>\n",
              "      <td>4</td>\n",
              "      <td>0</td>\n",
              "      <td>0</td>\n",
              "      <td>0</td>\n",
              "      <td>36</td>\n",
              "      <td>37</td>\n",
              "      <td>0</td>\n",
              "    </tr>\n",
              "    <tr>\n",
              "      <th>16278</th>\n",
              "      <td>38</td>\n",
              "      <td>2</td>\n",
              "      <td>9</td>\n",
              "      <td>13</td>\n",
              "      <td>2</td>\n",
              "      <td>9</td>\n",
              "      <td>0</td>\n",
              "      <td>4</td>\n",
              "      <td>1</td>\n",
              "      <td>0</td>\n",
              "      <td>0</td>\n",
              "      <td>50</td>\n",
              "      <td>37</td>\n",
              "      <td>0</td>\n",
              "    </tr>\n",
              "    <tr>\n",
              "      <th>16279</th>\n",
              "      <td>44</td>\n",
              "      <td>2</td>\n",
              "      <td>9</td>\n",
              "      <td>13</td>\n",
              "      <td>0</td>\n",
              "      <td>0</td>\n",
              "      <td>3</td>\n",
              "      <td>1</td>\n",
              "      <td>1</td>\n",
              "      <td>5455</td>\n",
              "      <td>0</td>\n",
              "      <td>40</td>\n",
              "      <td>37</td>\n",
              "      <td>0</td>\n",
              "    </tr>\n",
              "    <tr>\n",
              "      <th>16280</th>\n",
              "      <td>35</td>\n",
              "      <td>3</td>\n",
              "      <td>9</td>\n",
              "      <td>13</td>\n",
              "      <td>2</td>\n",
              "      <td>3</td>\n",
              "      <td>0</td>\n",
              "      <td>4</td>\n",
              "      <td>1</td>\n",
              "      <td>0</td>\n",
              "      <td>0</td>\n",
              "      <td>60</td>\n",
              "      <td>37</td>\n",
              "      <td>1</td>\n",
              "    </tr>\n",
              "  </tbody>\n",
              "</table>\n",
              "<p>15060 rows × 14 columns</p>\n",
              "</div>"
            ],
            "text/plain": [
              "       age  workclass  ...  native-country  listing-of-attributes\n",
              "0       25          2  ...              37                      0\n",
              "1       38          2  ...              37                      0\n",
              "2       28          1  ...              37                      1\n",
              "3       44          2  ...              37                      1\n",
              "5       34          2  ...              37                      0\n",
              "...    ...        ...  ...             ...                    ...\n",
              "16275   33          2  ...              37                      0\n",
              "16276   39          2  ...              37                      0\n",
              "16278   38          2  ...              37                      0\n",
              "16279   44          2  ...              37                      0\n",
              "16280   35          3  ...              37                      1\n",
              "\n",
              "[15060 rows x 14 columns]"
            ]
          },
          "metadata": {
            "tags": []
          },
          "execution_count": 8
        }
      ]
    },
    {
      "cell_type": "code",
      "metadata": {
        "id": "seyCI6C_hjcw"
      },
      "source": [
        "#將訓練及測試資料分成data和labels\n",
        "from tensorflow.keras.utils import to_categorical\n",
        "\n",
        "trainData = adult_train_data.drop(labels=['education'],axis=1)\n",
        "trainLabels = to_categorical(adult_train_data['education'])\n",
        "\n",
        "testData = adult_test_data.drop(labels=['education'],axis=1)\n",
        "testLabels = to_categorical(adult_test_data['education'])"
      ],
      "execution_count": 9,
      "outputs": []
    },
    {
      "cell_type": "code",
      "metadata": {
        "colab": {
          "base_uri": "https://localhost:8080/"
        },
        "id": "nwzFkr5uirSY",
        "outputId": "2ad672fc-c2c0-4f52-f9f8-6858f184a2b9"
      },
      "source": [
        "#檢視訓練集測試資料大小\n",
        "print('訓練資料: ',trainData.shape)\n",
        "print('測試資料: ',testData.shape)"
      ],
      "execution_count": 10,
      "outputs": [
        {
          "output_type": "stream",
          "text": [
            "訓練資料:  (30162, 13)\n",
            "測試資料:  (15060, 13)\n"
          ],
          "name": "stdout"
        }
      ]
    },
    {
      "cell_type": "markdown",
      "metadata": {
        "id": "wQ9hNectQO2w"
      },
      "source": [
        "# 模型設計"
      ]
    },
    {
      "cell_type": "code",
      "metadata": {
        "colab": {
          "base_uri": "https://localhost:8080/"
        },
        "id": "WSlD3iFdjzLI",
        "outputId": "a3909ed6-7687-4087-dd4a-af6dad527a6c"
      },
      "source": [
        "#設計模型\n",
        "\n",
        "from keras.models import Sequential\n",
        "from keras.layers import Activation\n",
        "from keras.layers import Dense\n",
        "from keras.optimizers import Adam\n",
        "from keras.layers import Dropout\n",
        "\n",
        "#建立簡單的線性執行的模型\n",
        "model = Sequential()\n",
        "\n",
        "#新增輸入層\n",
        "model.add(Dense(8, Activation('relu'), input_dim=trainData.shape[-1]))\n",
        "\n",
        "#新增隱藏層\n",
        "model.add(Dense(16, Activation('relu')))\n",
        "\n",
        "#新增輸出層\n",
        "model.add(Dense(16, Activation('sigmoid')))\n",
        "\n",
        "model.summary()"
      ],
      "execution_count": 48,
      "outputs": [
        {
          "output_type": "stream",
          "text": [
            "Model: \"sequential_5\"\n",
            "_________________________________________________________________\n",
            "Layer (type)                 Output Shape              Param #   \n",
            "=================================================================\n",
            "dense_16 (Dense)             (None, 8)                 112       \n",
            "_________________________________________________________________\n",
            "dense_17 (Dense)             (None, 16)                144       \n",
            "_________________________________________________________________\n",
            "dense_18 (Dense)             (None, 16)                272       \n",
            "=================================================================\n",
            "Total params: 528\n",
            "Trainable params: 528\n",
            "Non-trainable params: 0\n",
            "_________________________________________________________________\n"
          ],
          "name": "stdout"
        }
      ]
    },
    {
      "cell_type": "markdown",
      "metadata": {
        "id": "QCIzSK61QFA4"
      },
      "source": [
        "## 學習率=0.01\n",
        "\n",
        "\n"
      ]
    },
    {
      "cell_type": "code",
      "metadata": {
        "id": "VDw4jQ1akufw"
      },
      "source": [
        "#編譯(學習率=0.01)\n",
        "adamfirst = Adam(learning_rate=0.01)\n",
        "model.compile(optimizer=adamfirst, loss='binary_crossentropy', metrics=['accuracy'])"
      ],
      "execution_count": 49,
      "outputs": []
    },
    {
      "cell_type": "code",
      "metadata": {
        "colab": {
          "base_uri": "https://localhost:8080/"
        },
        "id": "uzJbPSozlSP_",
        "outputId": "36ae1d05-e6c3-4ec7-ed60-6f645f5eaca2"
      },
      "source": [
        "#訓練模型(學習率=0.01)\n",
        "history = model.fit(trainData, trainLabels, epochs=8, batch_size=16, verbose=1, shuffle=True, validation_split=0.1)"
      ],
      "execution_count": 52,
      "outputs": [
        {
          "output_type": "stream",
          "text": [
            "Epoch 1/8\n",
            "1697/1697 [==============================] - 3s 2ms/step - loss: 0.0495 - accuracy: 0.8412 - val_loss: 0.0408 - val_accuracy: 0.8691\n",
            "Epoch 2/8\n",
            "1697/1697 [==============================] - 2s 1ms/step - loss: 0.0504 - accuracy: 0.8332 - val_loss: 0.0426 - val_accuracy: 0.8419\n",
            "Epoch 3/8\n",
            "1697/1697 [==============================] - 3s 1ms/step - loss: 0.0486 - accuracy: 0.8424 - val_loss: 0.0414 - val_accuracy: 0.8432\n",
            "Epoch 4/8\n",
            "1697/1697 [==============================] - 2s 1ms/step - loss: 0.0402 - accuracy: 0.8630 - val_loss: 0.0386 - val_accuracy: 0.8714\n",
            "Epoch 5/8\n",
            "1697/1697 [==============================] - 2s 1ms/step - loss: 0.0417 - accuracy: 0.8579 - val_loss: 0.1456 - val_accuracy: 0.6208\n",
            "Epoch 6/8\n",
            "1697/1697 [==============================] - 2s 1ms/step - loss: 0.0473 - accuracy: 0.8479 - val_loss: 0.0405 - val_accuracy: 0.8528\n",
            "Epoch 7/8\n",
            "1697/1697 [==============================] - 2s 1ms/step - loss: 0.0398 - accuracy: 0.8653 - val_loss: 0.0353 - val_accuracy: 0.8638\n",
            "Epoch 8/8\n",
            "1697/1697 [==============================] - 3s 2ms/step - loss: 0.0491 - accuracy: 0.8586 - val_loss: 0.0419 - val_accuracy: 0.8495\n"
          ],
          "name": "stdout"
        }
      ]
    },
    {
      "cell_type": "code",
      "metadata": {
        "colab": {
          "base_uri": "https://localhost:8080/"
        },
        "id": "6a-jmUmyoGQA",
        "outputId": "64563762-3c0a-4333-cb92-f5c155b1a8d3"
      },
      "source": [
        "#模型驗證(學習率=0.01)\n",
        "_, accuracy = model.evaluate(testData, testLabels)\n",
        "print('Accuracy: %.2f' % (accuracy*100))"
      ],
      "execution_count": 53,
      "outputs": [
        {
          "output_type": "stream",
          "text": [
            "471/471 [==============================] - 1s 1ms/step - loss: 0.0389 - accuracy: 0.8655\n",
            "Accuracy: 86.55\n"
          ],
          "name": "stdout"
        }
      ]
    },
    {
      "cell_type": "code",
      "metadata": {
        "id": "MIUpGbN5Ikfc"
      },
      "source": [
        "#將繪製成圖(學習率=0.01)\n",
        "import matplotlib.pyplot as plt\n",
        "\n",
        "history_dict = history.history\n",
        "history_dict.keys()\n",
        "acc = history_dict['accuracy']\n",
        "val_acc = history_dict['val_accuracy']\n",
        "loss = history_dict['loss']\n",
        "val_loss = history_dict['val_loss']\n",
        "epochs_ = range(1,len(acc)+1)"
      ],
      "execution_count": 54,
      "outputs": []
    },
    {
      "cell_type": "code",
      "metadata": {
        "colab": {
          "base_uri": "https://localhost:8080/",
          "height": 295
        },
        "id": "3nXUzoQ-GcXN",
        "outputId": "8e191534-82ae-422d-e11c-6172ababd3b9"
      },
      "source": [
        "plt.plot(epochs_ , acc , label='train accuracy')\n",
        "plt.plot(epochs_ , val_acc , label = 'val accuracy')\n",
        "plt.title('train and val acc')\n",
        "plt.xlabel('epochs')\n",
        "plt.ylabel('acc')\n",
        "plt.legend()\n",
        "plt.show()"
      ],
      "execution_count": 55,
      "outputs": [
        {
          "output_type": "display_data",
          "data": {
            "image/png": "[encoded data removed]",
            "text/plain": [
              "<Figure size 432x288 with 1 Axes>"
            ]
          },
          "metadata": {
            "tags": [],
            "needs_background": "light"
          }
        }
      ]
    },
    {
      "cell_type": "code",
      "metadata": {
        "id": "EreQY0ulL7Nj"
      },
      "source": [
        "#預測測試資料的labels(學習率=0.01)\n",
        "testPred = np.argmax(model.predict(testData), axis=1)"
      ],
      "execution_count": 56,
      "outputs": []
    },
    {
      "cell_type": "code",
      "metadata": {
        "colab": {
          "base_uri": "https://localhost:8080/"
        },
        "id": "OJqLXY9hMPaK",
        "outputId": "08c3b54a-13f1-4a8a-eecb-45f620e04cb1"
      },
      "source": [
        "#算出混淆矩陣(學習率=0.01)\n",
        "from sklearn.metrics import confusion_matrix, classification_report\n",
        "\n",
        "testLabels_class = np.argmax(testLabels, axis=1)\n",
        "\n",
        "print(classification_report(testLabels_class, testPred))\n",
        "#print(confusion_matrix(testLabels_class, testPred))"
      ],
      "execution_count": 58,
      "outputs": [
        {
          "output_type": "stream",
          "text": [
            "              precision    recall  f1-score   support\n",
            "\n",
            "           0       0.90      0.86      0.88       403\n",
            "           1       0.96      0.92      0.94       571\n",
            "           2       1.00      0.12      0.22       200\n",
            "           3       0.00      0.00      0.00        71\n",
            "           4       0.57      0.75      0.65       161\n",
            "           5       0.77      0.66      0.71       266\n",
            "           6       0.74      0.64      0.68       221\n",
            "           7       1.00      0.88      0.94       499\n",
            "           8       1.00      0.86      0.93       652\n",
            "           9       1.00      0.81      0.90      2526\n",
            "          10       1.00      0.68      0.81       169\n",
            "          11       0.75      1.00      0.86      4943\n",
            "          12       0.83      0.78      0.80       887\n",
            "          13       0.51      0.78      0.62        27\n",
            "          14       1.00      0.01      0.02       243\n",
            "          15       1.00      0.89      0.94      3221\n",
            "\n",
            "    accuracy                           0.87     15060\n",
            "   macro avg       0.81      0.67      0.68     15060\n",
            "weighted avg       0.89      0.87      0.86     15060\n",
            "\n"
          ],
          "name": "stdout"
        },
        {
          "output_type": "stream",
          "text": [
            "/usr/local/lib/python3.7/dist-packages/sklearn/metrics/_classification.py:1272: UndefinedMetricWarning: Precision and F-score are ill-defined and being set to 0.0 in labels with no predicted samples. Use `zero_division` parameter to control this behavior.\n",
            "  _warn_prf(average, modifier, msg_start, len(result))\n"
          ],
          "name": "stderr"
        }
      ]
    },
    {
      "cell_type": "markdown",
      "metadata": {
        "id": "nveLKcurQx2g"
      },
      "source": [
        "## 學習率=0.005"
      ]
    },
    {
      "cell_type": "code",
      "metadata": {
        "id": "tG25tmsfPf7B"
      },
      "source": [
        "#編譯(學習率=0.005)\n",
        "adamfirst = Adam(learning_rate=0.005)\n",
        "model.compile(optimizer=adamfirst, loss='binary_crossentropy', metrics=['accuracy'])"
      ],
      "execution_count": 59,
      "outputs": []
    },
    {
      "cell_type": "code",
      "metadata": {
        "colab": {
          "base_uri": "https://localhost:8080/"
        },
        "id": "Hs4chd61P3V4",
        "outputId": "ecbcd3fb-e179-40f3-e000-65b4de2d6c0b"
      },
      "source": [
        "#訓練模型(學習率=0.005)\n",
        "history = model.fit(trainData, trainLabels, epochs=8, batch_size=16, verbose=1, shuffle=True, validation_split=0.1)"
      ],
      "execution_count": 60,
      "outputs": [
        {
          "output_type": "stream",
          "text": [
            "Epoch 1/8\n",
            "1697/1697 [==============================] - 3s 1ms/step - loss: 0.0368 - accuracy: 0.8746 - val_loss: 0.0355 - val_accuracy: 0.8707\n",
            "Epoch 2/8\n",
            "1697/1697 [==============================] - 2s 1ms/step - loss: 0.0321 - accuracy: 0.8863 - val_loss: 0.0334 - val_accuracy: 0.8697\n",
            "Epoch 3/8\n",
            "1697/1697 [==============================] - 2s 1ms/step - loss: 0.0330 - accuracy: 0.8831 - val_loss: 0.0332 - val_accuracy: 0.8820\n",
            "Epoch 4/8\n",
            "1697/1697 [==============================] - 2s 1ms/step - loss: 0.0313 - accuracy: 0.8891 - val_loss: 0.0328 - val_accuracy: 0.8837\n",
            "Epoch 5/8\n",
            "1697/1697 [==============================] - 2s 1ms/step - loss: 0.0411 - accuracy: 0.8751 - val_loss: 0.0343 - val_accuracy: 0.8737\n",
            "Epoch 6/8\n",
            "1697/1697 [==============================] - 2s 1ms/step - loss: 0.0311 - accuracy: 0.8902 - val_loss: 0.0339 - val_accuracy: 0.8764\n",
            "Epoch 7/8\n",
            "1697/1697 [==============================] - 2s 1ms/step - loss: 0.0315 - accuracy: 0.8871 - val_loss: 0.0325 - val_accuracy: 0.8823\n",
            "Epoch 8/8\n",
            "1697/1697 [==============================] - 2s 1ms/step - loss: 0.0332 - accuracy: 0.8863 - val_loss: 0.0325 - val_accuracy: 0.8830\n"
          ],
          "name": "stdout"
        }
      ]
    },
    {
      "cell_type": "code",
      "metadata": {
        "colab": {
          "base_uri": "https://localhost:8080/"
        },
        "id": "pqCcYQ3OP9ZI",
        "outputId": "a97bdfbc-4a90-44ce-da35-db83cef9b5ea"
      },
      "source": [
        "#模型驗證(學習率=0.005)\n",
        "_, accuracy = model.evaluate(testData, testLabels)\n",
        "print('Accuracy: %.2f' % (accuracy*100))"
      ],
      "execution_count": 61,
      "outputs": [
        {
          "output_type": "stream",
          "text": [
            "471/471 [==============================] - 0s 998us/step - loss: 0.0309 - accuracy: 0.8885\n",
            "Accuracy: 88.85\n"
          ],
          "name": "stdout"
        }
      ]
    },
    {
      "cell_type": "code",
      "metadata": {
        "id": "FZvf09zRRKBQ"
      },
      "source": [
        "#預測測試資料的labels(學習率=0.005)\n",
        "testPred = np.argmax(model.predict(testData), axis=1)"
      ],
      "execution_count": 62,
      "outputs": []
    },
    {
      "cell_type": "code",
      "metadata": {
        "colab": {
          "base_uri": "https://localhost:8080/"
        },
        "id": "CHhZMQ0BRNLh",
        "outputId": "7c73ae04-7cf3-4896-fba0-ac0c99ccaa7b"
      },
      "source": [
        "#算出混淆矩陣(學習率=0.005)\n",
        "from sklearn.metrics import confusion_matrix, classification_report\n",
        "\n",
        "testLabels_class = np.argmax(testLabels, axis=1)\n",
        "\n",
        "print(classification_report(testLabels_class, testPred))"
      ],
      "execution_count": 63,
      "outputs": [
        {
          "output_type": "stream",
          "text": [
            "              precision    recall  f1-score   support\n",
            "\n",
            "           0       0.95      0.79      0.86       403\n",
            "           1       1.00      0.93      0.96       571\n",
            "           2       1.00      0.96      0.98       200\n",
            "           3       0.85      0.65      0.74        71\n",
            "           4       0.67      0.78      0.72       161\n",
            "           5       0.76      0.72      0.74       266\n",
            "           6       0.69      0.67      0.68       221\n",
            "           7       1.00      0.88      0.94       499\n",
            "           8       1.00      0.86      0.93       652\n",
            "           9       1.00      0.81      0.90      2526\n",
            "          10       1.00      0.68      0.81       169\n",
            "          11       0.77      1.00      0.87      4943\n",
            "          12       1.00      0.78      0.88       887\n",
            "          13       0.90      0.67      0.77        27\n",
            "          14       1.00      0.58      0.74       243\n",
            "          15       1.00      0.89      0.94      3221\n",
            "\n",
            "    accuracy                           0.89     15060\n",
            "   macro avg       0.91      0.79      0.84     15060\n",
            "weighted avg       0.91      0.89      0.89     15060\n",
            "\n"
          ],
          "name": "stdout"
        }
      ]
    },
    {
      "cell_type": "markdown",
      "metadata": {
        "id": "dmETgUHlSiex"
      },
      "source": [
        "## 學習率=0.001"
      ]
    },
    {
      "cell_type": "code",
      "metadata": {
        "id": "1FyYDPHASnPH"
      },
      "source": [
        "#編譯(學習率=0.001)\n",
        "adamfirst = Adam(learning_rate=0.001)\n",
        "model.compile(optimizer=adamfirst, loss='binary_crossentropy', metrics=['accuracy'])"
      ],
      "execution_count": 69,
      "outputs": []
    },
    {
      "cell_type": "code",
      "metadata": {
        "colab": {
          "base_uri": "https://localhost:8080/"
        },
        "id": "5Z-Rvl6GSqqH",
        "outputId": "8b5a153e-1d36-46e4-ed30-07aa408633fe"
      },
      "source": [
        "#訓練模型(學習率=0.001)\n",
        "history = model.fit(trainData, trainLabels, epochs=8, batch_size=16, verbose=1, shuffle=True, validation_split=0.1)"
      ],
      "execution_count": 70,
      "outputs": [
        {
          "output_type": "stream",
          "text": [
            "Epoch 1/8\n",
            "1697/1697 [==============================] - 3s 1ms/step - loss: 0.0284 - accuracy: 0.8970 - val_loss: 0.0303 - val_accuracy: 0.8900\n",
            "Epoch 2/8\n",
            "1697/1697 [==============================] - 2s 1ms/step - loss: 0.0294 - accuracy: 0.8975 - val_loss: 0.0302 - val_accuracy: 0.8893\n",
            "Epoch 3/8\n",
            "1697/1697 [==============================] - 2s 1ms/step - loss: 0.0288 - accuracy: 0.8979 - val_loss: 0.0302 - val_accuracy: 0.8900\n",
            "Epoch 4/8\n",
            "1697/1697 [==============================] - 2s 1ms/step - loss: 0.0280 - accuracy: 0.8993 - val_loss: 0.0301 - val_accuracy: 0.8880\n",
            "Epoch 5/8\n",
            "1697/1697 [==============================] - 2s 1ms/step - loss: 0.0283 - accuracy: 0.8990 - val_loss: 0.0299 - val_accuracy: 0.8893\n",
            "Epoch 6/8\n",
            "1697/1697 [==============================] - 2s 1ms/step - loss: 0.0302 - accuracy: 0.8910 - val_loss: 0.0303 - val_accuracy: 0.8876\n",
            "Epoch 7/8\n",
            "1697/1697 [==============================] - 2s 1ms/step - loss: 0.0278 - accuracy: 0.9005 - val_loss: 0.0299 - val_accuracy: 0.8893\n",
            "Epoch 8/8\n",
            "1697/1697 [==============================] - 2s 1ms/step - loss: 0.0281 - accuracy: 0.8988 - val_loss: 0.0298 - val_accuracy: 0.8910\n"
          ],
          "name": "stdout"
        }
      ]
    },
    {
      "cell_type": "code",
      "metadata": {
        "colab": {
          "base_uri": "https://localhost:8080/"
        },
        "id": "8NxL4W-FStiX",
        "outputId": "c37ba580-0bdf-41a5-e516-a3259fd3c7c3"
      },
      "source": [
        "#模型驗證(學習率=0.001)\n",
        "_, accuracy = model.evaluate(testData, testLabels)\n",
        "print('Accuracy: %.2f' % (accuracy*100))"
      ],
      "execution_count": 71,
      "outputs": [
        {
          "output_type": "stream",
          "text": [
            "471/471 [==============================] - 0s 998us/step - loss: 0.0277 - accuracy: 0.8987\n",
            "Accuracy: 89.87\n"
          ],
          "name": "stdout"
        }
      ]
    },
    {
      "cell_type": "code",
      "metadata": {
        "id": "4ZiZxXVsSu6n"
      },
      "source": [
        "#預測測試資料的labels(學習率=0.001)\n",
        "testPred = np.argmax(model.predict(testData), axis=1)"
      ],
      "execution_count": 72,
      "outputs": []
    },
    {
      "cell_type": "code",
      "metadata": {
        "colab": {
          "base_uri": "https://localhost:8080/"
        },
        "id": "9jY2B3fQSwJn",
        "outputId": "16a80033-b101-4bd4-dd2b-5a4dad3b7ae3"
      },
      "source": [
        "#算出混淆矩陣(學習率=0.001)\n",
        "from sklearn.metrics import confusion_matrix, classification_report\n",
        "\n",
        "testLabels_class = np.argmax(testLabels, axis=1)\n",
        "\n",
        "print(classification_report(testLabels_class, testPred))"
      ],
      "execution_count": 73,
      "outputs": [
        {
          "output_type": "stream",
          "text": [
            "              precision    recall  f1-score   support\n",
            "\n",
            "           0       0.98      0.92      0.95       403\n",
            "           1       1.00      0.93      0.96       571\n",
            "           2       1.00      0.96      0.98       200\n",
            "           3       0.92      0.85      0.88        71\n",
            "           4       0.90      0.85      0.87       161\n",
            "           5       0.92      0.85      0.89       266\n",
            "           6       0.94      0.84      0.89       221\n",
            "           7       1.00      0.88      0.94       499\n",
            "           8       1.00      0.86      0.93       652\n",
            "           9       1.00      0.81      0.90      2526\n",
            "          10       1.00      0.68      0.81       169\n",
            "          11       0.77      1.00      0.87      4943\n",
            "          12       1.00      0.78      0.88       887\n",
            "          13       1.00      0.74      0.85        27\n",
            "          14       1.00      0.58      0.74       243\n",
            "          15       1.00      0.89      0.94      3221\n",
            "\n",
            "    accuracy                           0.90     15060\n",
            "   macro avg       0.96      0.84      0.89     15060\n",
            "weighted avg       0.92      0.90      0.90     15060\n",
            "\n"
          ],
          "name": "stdout"
        }
      ]
    },
    {
      "cell_type": "markdown",
      "metadata": {
        "id": "3-UdZeyOSz1_"
      },
      "source": [
        "## 學習率=0.0005"
      ]
    },
    {
      "cell_type": "code",
      "metadata": {
        "id": "eq5SJIUKToAA"
      },
      "source": [
        "#編譯(學習率=0.0005)\n",
        "adamfirst = Adam(learning_rate=0.0005)\n",
        "model.compile(optimizer=adamfirst, loss='binary_crossentropy', metrics=['accuracy'])"
      ],
      "execution_count": 74,
      "outputs": []
    },
    {
      "cell_type": "code",
      "metadata": {
        "colab": {
          "base_uri": "https://localhost:8080/"
        },
        "id": "1bR14RAwTrzf",
        "outputId": "6361aae3-fbd2-4969-b745-dc6ba7ceb176"
      },
      "source": [
        "#訓練模型(學習率=0.0005)\n",
        "history = model.fit(trainData, trainLabels, epochs=8, batch_size=16, verbose=1, shuffle=True, validation_split=0.1)"
      ],
      "execution_count": 75,
      "outputs": [
        {
          "output_type": "stream",
          "text": [
            "Epoch 1/8\n",
            "1697/1697 [==============================] - 3s 1ms/step - loss: 0.0277 - accuracy: 0.8993 - val_loss: 0.0297 - val_accuracy: 0.8910\n",
            "Epoch 2/8\n",
            "1697/1697 [==============================] - 2s 1ms/step - loss: 0.0274 - accuracy: 0.9015 - val_loss: 0.0296 - val_accuracy: 0.8906\n",
            "Epoch 3/8\n",
            "1697/1697 [==============================] - 2s 1ms/step - loss: 0.0281 - accuracy: 0.8990 - val_loss: 0.0296 - val_accuracy: 0.8913\n",
            "Epoch 4/8\n",
            "1697/1697 [==============================] - 2s 1ms/step - loss: 0.0278 - accuracy: 0.9004 - val_loss: 0.0295 - val_accuracy: 0.8906\n",
            "Epoch 5/8\n",
            "1697/1697 [==============================] - 2s 1ms/step - loss: 0.0276 - accuracy: 0.9014 - val_loss: 0.0296 - val_accuracy: 0.8906\n",
            "Epoch 6/8\n",
            "1697/1697 [==============================] - 2s 1ms/step - loss: 0.0277 - accuracy: 0.8991 - val_loss: 0.0296 - val_accuracy: 0.8910\n",
            "Epoch 7/8\n",
            "1697/1697 [==============================] - 2s 1ms/step - loss: 0.0276 - accuracy: 0.8993 - val_loss: 0.0294 - val_accuracy: 0.8913\n",
            "Epoch 8/8\n",
            "1697/1697 [==============================] - 2s 1ms/step - loss: 0.0280 - accuracy: 0.8977 - val_loss: 0.0294 - val_accuracy: 0.8910\n"
          ],
          "name": "stdout"
        }
      ]
    },
    {
      "cell_type": "code",
      "metadata": {
        "colab": {
          "base_uri": "https://localhost:8080/"
        },
        "id": "hTrtghnFTtBv",
        "outputId": "e4861cb4-ca13-4215-a07e-8504b0ad551b"
      },
      "source": [
        "#模型驗證(學習率=0.0005)\n",
        "_, accuracy = model.evaluate(testData, testLabels)\n",
        "print('Accuracy: %.2f' % (accuracy*100))"
      ],
      "execution_count": 76,
      "outputs": [
        {
          "output_type": "stream",
          "text": [
            "471/471 [==============================] - 0s 997us/step - loss: 0.0273 - accuracy: 0.8997\n",
            "Accuracy: 89.97\n"
          ],
          "name": "stdout"
        }
      ]
    },
    {
      "cell_type": "code",
      "metadata": {
        "id": "MNm0mcTLTuIo"
      },
      "source": [
        "#預測測試資料的labels(學習率=0.0005)\n",
        "testPred = np.argmax(model.predict(testData), axis=1)"
      ],
      "execution_count": 77,
      "outputs": []
    },
    {
      "cell_type": "code",
      "metadata": {
        "colab": {
          "base_uri": "https://localhost:8080/"
        },
        "id": "3GQS077kTvs_",
        "outputId": "91c1ea39-c531-446c-a36c-9772ffcc6ab6"
      },
      "source": [
        "#算出混淆矩陣(學習率=0.0005)\n",
        "from sklearn.metrics import confusion_matrix, classification_report\n",
        "\n",
        "testLabels_class = np.argmax(testLabels, axis=1)\n",
        "\n",
        "print(classification_report(testLabels_class, testPred))"
      ],
      "execution_count": 78,
      "outputs": [
        {
          "output_type": "stream",
          "text": [
            "              precision    recall  f1-score   support\n",
            "\n",
            "           0       0.97      0.94      0.95       403\n",
            "           1       1.00      0.93      0.96       571\n",
            "           2       1.00      0.96      0.98       200\n",
            "           3       0.86      0.90      0.88        71\n",
            "           4       0.98      0.84      0.90       161\n",
            "           5       0.94      0.89      0.91       266\n",
            "           6       0.97      0.85      0.91       221\n",
            "           7       1.00      0.88      0.94       499\n",
            "           8       1.00      0.86      0.93       652\n",
            "           9       1.00      0.81      0.90      2526\n",
            "          10       1.00      0.68      0.81       169\n",
            "          11       0.77      1.00      0.87      4943\n",
            "          12       1.00      0.78      0.88       887\n",
            "          13       1.00      0.59      0.74        27\n",
            "          14       1.00      0.58      0.74       243\n",
            "          15       1.00      0.89      0.94      3221\n",
            "\n",
            "    accuracy                           0.90     15060\n",
            "   macro avg       0.97      0.84      0.89     15060\n",
            "weighted avg       0.92      0.90      0.90     15060\n",
            "\n"
          ],
          "name": "stdout"
        }
      ]
    }
  ]
}